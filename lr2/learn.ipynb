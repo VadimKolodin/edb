{
 "cells": [
  {
   "cell_type": "code",
   "execution_count": 1,
   "id": "7a1fed84",
   "metadata": {
    "_cell_guid": "b1076dfc-b9ad-4769-8c92-a6c4dae69d19",
    "_uuid": "8f2839f25d086af736a60e9eeb907d3b93b6e0e5",
    "execution": {
     "iopub.execute_input": "2024-04-03T08:45:24.168864Z",
     "iopub.status.busy": "2024-04-03T08:45:24.167890Z",
     "iopub.status.idle": "2024-04-03T08:45:25.128472Z",
     "shell.execute_reply": "2024-04-03T08:45:25.127292Z"
    },
    "papermill": {
     "duration": 0.97116,
     "end_time": "2024-04-03T08:45:25.131961",
     "exception": false,
     "start_time": "2024-04-03T08:45:24.160801",
     "status": "completed"
    },
    "tags": [],
    "ExecuteTime": {
     "end_time": "2024-05-05T08:46:51.370529Z",
     "start_time": "2024-05-05T08:46:50.858530700Z"
    }
   },
   "outputs": [],
   "source": [
    "import numpy as np\n",
    "import pandas as pd\n",
    "import sklearn.model_selection"
   ]
  },
  {
   "cell_type": "code",
   "execution_count": 2,
   "outputs": [
    {
     "data": {
      "text/plain": "      gender  age  education          ethnicity  impulsive  sensation  \\\n0      False   38          5  Mixed-White/Asian   -0.21712   -1.18084   \n1       True   28          8              White   -0.71126   -0.21575   \n2       True   36          5              White   -1.37983    0.40148   \n3      False   18          7              White   -1.37983   -1.18084   \n4      False   37          8              White   -0.21712   -0.21575   \n...      ...  ...        ...                ...        ...        ...   \n1880   False   21          4              White    0.88113    1.92173   \n1881    True   23          4              White    0.88113    0.76540   \n1882   False   34          6              White    0.52975   -0.52593   \n1883   False   25          4              White    1.29221    1.22470   \n1884    True   21          4              White    0.88113    1.22470   \n\n      c_score  e_score  n_score  o_score  was_addicted  \n0    -0.00665 -0.57545  0.31287 -0.58331         False  \n1    -0.14277  1.93886 -0.67825  1.43533          True  \n2    -1.01450  0.80523 -0.46725 -0.84732         False  \n3     0.58489 -0.80615 -0.14882 -0.01928         False  \n4     1.30612 -1.63340  0.73545 -0.45174         False  \n...       ...      ...      ...      ...           ...  \n1880 -1.13788  1.74091 -1.19430  1.88511          True  \n1881 -1.51840  1.74091 -0.24649  0.58331          True  \n1882 -1.38502 -1.37639  1.13281 -1.27553          True  \n1883 -2.57309 -1.92173  0.91093  0.29338          True  \n1884  0.41594  2.12700 -0.46725  1.65653          True  \n\n[1885 rows x 11 columns]",
      "text/html": "<div>\n<style scoped>\n    .dataframe tbody tr th:only-of-type {\n        vertical-align: middle;\n    }\n\n    .dataframe tbody tr th {\n        vertical-align: top;\n    }\n\n    .dataframe thead th {\n        text-align: right;\n    }\n</style>\n<table border=\"1\" class=\"dataframe\">\n  <thead>\n    <tr style=\"text-align: right;\">\n      <th></th>\n      <th>gender</th>\n      <th>age</th>\n      <th>education</th>\n      <th>ethnicity</th>\n      <th>impulsive</th>\n      <th>sensation</th>\n      <th>c_score</th>\n      <th>e_score</th>\n      <th>n_score</th>\n      <th>o_score</th>\n      <th>was_addicted</th>\n    </tr>\n  </thead>\n  <tbody>\n    <tr>\n      <th>0</th>\n      <td>False</td>\n      <td>38</td>\n      <td>5</td>\n      <td>Mixed-White/Asian</td>\n      <td>-0.21712</td>\n      <td>-1.18084</td>\n      <td>-0.00665</td>\n      <td>-0.57545</td>\n      <td>0.31287</td>\n      <td>-0.58331</td>\n      <td>False</td>\n    </tr>\n    <tr>\n      <th>1</th>\n      <td>True</td>\n      <td>28</td>\n      <td>8</td>\n      <td>White</td>\n      <td>-0.71126</td>\n      <td>-0.21575</td>\n      <td>-0.14277</td>\n      <td>1.93886</td>\n      <td>-0.67825</td>\n      <td>1.43533</td>\n      <td>True</td>\n    </tr>\n    <tr>\n      <th>2</th>\n      <td>True</td>\n      <td>36</td>\n      <td>5</td>\n      <td>White</td>\n      <td>-1.37983</td>\n      <td>0.40148</td>\n      <td>-1.01450</td>\n      <td>0.80523</td>\n      <td>-0.46725</td>\n      <td>-0.84732</td>\n      <td>False</td>\n    </tr>\n    <tr>\n      <th>3</th>\n      <td>False</td>\n      <td>18</td>\n      <td>7</td>\n      <td>White</td>\n      <td>-1.37983</td>\n      <td>-1.18084</td>\n      <td>0.58489</td>\n      <td>-0.80615</td>\n      <td>-0.14882</td>\n      <td>-0.01928</td>\n      <td>False</td>\n    </tr>\n    <tr>\n      <th>4</th>\n      <td>False</td>\n      <td>37</td>\n      <td>8</td>\n      <td>White</td>\n      <td>-0.21712</td>\n      <td>-0.21575</td>\n      <td>1.30612</td>\n      <td>-1.63340</td>\n      <td>0.73545</td>\n      <td>-0.45174</td>\n      <td>False</td>\n    </tr>\n    <tr>\n      <th>...</th>\n      <td>...</td>\n      <td>...</td>\n      <td>...</td>\n      <td>...</td>\n      <td>...</td>\n      <td>...</td>\n      <td>...</td>\n      <td>...</td>\n      <td>...</td>\n      <td>...</td>\n      <td>...</td>\n    </tr>\n    <tr>\n      <th>1880</th>\n      <td>False</td>\n      <td>21</td>\n      <td>4</td>\n      <td>White</td>\n      <td>0.88113</td>\n      <td>1.92173</td>\n      <td>-1.13788</td>\n      <td>1.74091</td>\n      <td>-1.19430</td>\n      <td>1.88511</td>\n      <td>True</td>\n    </tr>\n    <tr>\n      <th>1881</th>\n      <td>True</td>\n      <td>23</td>\n      <td>4</td>\n      <td>White</td>\n      <td>0.88113</td>\n      <td>0.76540</td>\n      <td>-1.51840</td>\n      <td>1.74091</td>\n      <td>-0.24649</td>\n      <td>0.58331</td>\n      <td>True</td>\n    </tr>\n    <tr>\n      <th>1882</th>\n      <td>False</td>\n      <td>34</td>\n      <td>6</td>\n      <td>White</td>\n      <td>0.52975</td>\n      <td>-0.52593</td>\n      <td>-1.38502</td>\n      <td>-1.37639</td>\n      <td>1.13281</td>\n      <td>-1.27553</td>\n      <td>True</td>\n    </tr>\n    <tr>\n      <th>1883</th>\n      <td>False</td>\n      <td>25</td>\n      <td>4</td>\n      <td>White</td>\n      <td>1.29221</td>\n      <td>1.22470</td>\n      <td>-2.57309</td>\n      <td>-1.92173</td>\n      <td>0.91093</td>\n      <td>0.29338</td>\n      <td>True</td>\n    </tr>\n    <tr>\n      <th>1884</th>\n      <td>True</td>\n      <td>21</td>\n      <td>4</td>\n      <td>White</td>\n      <td>0.88113</td>\n      <td>1.22470</td>\n      <td>0.41594</td>\n      <td>2.12700</td>\n      <td>-0.46725</td>\n      <td>1.65653</td>\n      <td>True</td>\n    </tr>\n  </tbody>\n</table>\n<p>1885 rows × 11 columns</p>\n</div>"
     },
     "execution_count": 2,
     "metadata": {},
     "output_type": "execute_result"
    }
   ],
   "source": [
    "dataset = pd.read_csv('dataset.csv', delimiter=';')\n",
    "dataset"
   ],
   "metadata": {
    "collapsed": false,
    "ExecuteTime": {
     "end_time": "2024-05-05T08:46:54.340529200Z",
     "start_time": "2024-05-05T08:46:54.293531100Z"
    }
   },
   "id": "6927d150fca37ff3"
  },
  {
   "cell_type": "code",
   "execution_count": 3,
   "outputs": [
    {
     "data": {
      "text/plain": "      gender  age  education  ethnicity  impulsive  sensation  c_score  \\\n0         -1   38          5          3   -0.21712   -1.18084 -0.00665   \n1          1   28          8          6   -0.71126   -0.21575 -0.14277   \n2          1   36          5          6   -1.37983    0.40148 -1.01450   \n3         -1   18          7          6   -1.37983   -1.18084  0.58489   \n4         -1   37          8          6   -0.21712   -0.21575  1.30612   \n...      ...  ...        ...        ...        ...        ...      ...   \n1880      -1   21          4          6    0.88113    1.92173 -1.13788   \n1881       1   23          4          6    0.88113    0.76540 -1.51840   \n1882      -1   34          6          6    0.52975   -0.52593 -1.38502   \n1883      -1   25          4          6    1.29221    1.22470 -2.57309   \n1884       1   21          4          6    0.88113    1.22470  0.41594   \n\n      e_score  n_score  o_score  was_addicted  \n0    -0.57545  0.31287 -0.58331         False  \n1     1.93886 -0.67825  1.43533          True  \n2     0.80523 -0.46725 -0.84732         False  \n3    -0.80615 -0.14882 -0.01928         False  \n4    -1.63340  0.73545 -0.45174         False  \n...       ...      ...      ...           ...  \n1880  1.74091 -1.19430  1.88511          True  \n1881  1.74091 -0.24649  0.58331          True  \n1882 -1.37639  1.13281 -1.27553          True  \n1883 -1.92173  0.91093  0.29338          True  \n1884  2.12700 -0.46725  1.65653          True  \n\n[1885 rows x 11 columns]",
      "text/html": "<div>\n<style scoped>\n    .dataframe tbody tr th:only-of-type {\n        vertical-align: middle;\n    }\n\n    .dataframe tbody tr th {\n        vertical-align: top;\n    }\n\n    .dataframe thead th {\n        text-align: right;\n    }\n</style>\n<table border=\"1\" class=\"dataframe\">\n  <thead>\n    <tr style=\"text-align: right;\">\n      <th></th>\n      <th>gender</th>\n      <th>age</th>\n      <th>education</th>\n      <th>ethnicity</th>\n      <th>impulsive</th>\n      <th>sensation</th>\n      <th>c_score</th>\n      <th>e_score</th>\n      <th>n_score</th>\n      <th>o_score</th>\n      <th>was_addicted</th>\n    </tr>\n  </thead>\n  <tbody>\n    <tr>\n      <th>0</th>\n      <td>-1</td>\n      <td>38</td>\n      <td>5</td>\n      <td>3</td>\n      <td>-0.21712</td>\n      <td>-1.18084</td>\n      <td>-0.00665</td>\n      <td>-0.57545</td>\n      <td>0.31287</td>\n      <td>-0.58331</td>\n      <td>False</td>\n    </tr>\n    <tr>\n      <th>1</th>\n      <td>1</td>\n      <td>28</td>\n      <td>8</td>\n      <td>6</td>\n      <td>-0.71126</td>\n      <td>-0.21575</td>\n      <td>-0.14277</td>\n      <td>1.93886</td>\n      <td>-0.67825</td>\n      <td>1.43533</td>\n      <td>True</td>\n    </tr>\n    <tr>\n      <th>2</th>\n      <td>1</td>\n      <td>36</td>\n      <td>5</td>\n      <td>6</td>\n      <td>-1.37983</td>\n      <td>0.40148</td>\n      <td>-1.01450</td>\n      <td>0.80523</td>\n      <td>-0.46725</td>\n      <td>-0.84732</td>\n      <td>False</td>\n    </tr>\n    <tr>\n      <th>3</th>\n      <td>-1</td>\n      <td>18</td>\n      <td>7</td>\n      <td>6</td>\n      <td>-1.37983</td>\n      <td>-1.18084</td>\n      <td>0.58489</td>\n      <td>-0.80615</td>\n      <td>-0.14882</td>\n      <td>-0.01928</td>\n      <td>False</td>\n    </tr>\n    <tr>\n      <th>4</th>\n      <td>-1</td>\n      <td>37</td>\n      <td>8</td>\n      <td>6</td>\n      <td>-0.21712</td>\n      <td>-0.21575</td>\n      <td>1.30612</td>\n      <td>-1.63340</td>\n      <td>0.73545</td>\n      <td>-0.45174</td>\n      <td>False</td>\n    </tr>\n    <tr>\n      <th>...</th>\n      <td>...</td>\n      <td>...</td>\n      <td>...</td>\n      <td>...</td>\n      <td>...</td>\n      <td>...</td>\n      <td>...</td>\n      <td>...</td>\n      <td>...</td>\n      <td>...</td>\n      <td>...</td>\n    </tr>\n    <tr>\n      <th>1880</th>\n      <td>-1</td>\n      <td>21</td>\n      <td>4</td>\n      <td>6</td>\n      <td>0.88113</td>\n      <td>1.92173</td>\n      <td>-1.13788</td>\n      <td>1.74091</td>\n      <td>-1.19430</td>\n      <td>1.88511</td>\n      <td>True</td>\n    </tr>\n    <tr>\n      <th>1881</th>\n      <td>1</td>\n      <td>23</td>\n      <td>4</td>\n      <td>6</td>\n      <td>0.88113</td>\n      <td>0.76540</td>\n      <td>-1.51840</td>\n      <td>1.74091</td>\n      <td>-0.24649</td>\n      <td>0.58331</td>\n      <td>True</td>\n    </tr>\n    <tr>\n      <th>1882</th>\n      <td>-1</td>\n      <td>34</td>\n      <td>6</td>\n      <td>6</td>\n      <td>0.52975</td>\n      <td>-0.52593</td>\n      <td>-1.38502</td>\n      <td>-1.37639</td>\n      <td>1.13281</td>\n      <td>-1.27553</td>\n      <td>True</td>\n    </tr>\n    <tr>\n      <th>1883</th>\n      <td>-1</td>\n      <td>25</td>\n      <td>4</td>\n      <td>6</td>\n      <td>1.29221</td>\n      <td>1.22470</td>\n      <td>-2.57309</td>\n      <td>-1.92173</td>\n      <td>0.91093</td>\n      <td>0.29338</td>\n      <td>True</td>\n    </tr>\n    <tr>\n      <th>1884</th>\n      <td>1</td>\n      <td>21</td>\n      <td>4</td>\n      <td>6</td>\n      <td>0.88113</td>\n      <td>1.22470</td>\n      <td>0.41594</td>\n      <td>2.12700</td>\n      <td>-0.46725</td>\n      <td>1.65653</td>\n      <td>True</td>\n    </tr>\n  </tbody>\n</table>\n<p>1885 rows × 11 columns</p>\n</div>"
     },
     "execution_count": 3,
     "metadata": {},
     "output_type": "execute_result"
    }
   ],
   "source": [
    "dataset['ethnicity'] = dataset['ethnicity'].astype('category').cat.codes.to_numpy()\n",
    "dataset['gender'] = dataset['gender'] * 2 - 1\n",
    "dataset"
   ],
   "metadata": {
    "collapsed": false,
    "ExecuteTime": {
     "end_time": "2024-05-05T08:46:56.506529600Z",
     "start_time": "2024-05-05T08:46:56.473529300Z"
    }
   },
   "id": "493e454a7ce69e7f"
  },
  {
   "cell_type": "code",
   "execution_count": 4,
   "outputs": [],
   "source": [
    "x = dataset.drop(columns=['was_addicted'], inplace=False).to_numpy()\n",
    "y = dataset['was_addicted'].to_numpy() * 1\n",
    "train_x, test_x, train_y, test_y = sklearn.model_selection.train_test_split(x, y, test_size=0.33, random_state=123)"
   ],
   "metadata": {
    "collapsed": false,
    "ExecuteTime": {
     "end_time": "2024-05-05T08:46:58.620273500Z",
     "start_time": "2024-05-05T08:46:58.606274500Z"
    }
   },
   "id": "9c606f1572f102a3"
  },
  {
   "cell_type": "code",
   "execution_count": 5,
   "outputs": [
    {
     "data": {
      "text/plain": "array([[ 1.02243869, -0.55831635, -2.21916176, ...,  1.09935668,\n        -1.07850292, -1.88126923],\n       [ 1.02243869, -0.9514179 , -0.54584043, ...,  0.30153614,\n         0.03743297, -0.04260614],\n       [-0.97805375, -0.87279759, -1.1036142 , ...,  0.30153614,\n        -1.07850292,  1.8920379 ],\n       ...,\n       [-0.97805375, -0.00797417,  1.68525469, ..., -0.9774102 ,\n        -2.2654395 , -0.75168474],\n       [ 1.02243869,  1.09271019,  0.01193335, ...,  0.14611983,\n        -0.36035822, -0.75168474],\n       [-0.97805375, -1.10865852, -0.54584043, ..., -0.9774102 ,\n         0.13265394, -1.15981713]])"
     },
     "execution_count": 5,
     "metadata": {},
     "output_type": "execute_result"
    }
   ],
   "source": [
    "from sklearn import preprocessing\n",
    "scaler = preprocessing.StandardScaler().fit(train_x)\n",
    "preprocessed_train_x = scaler.transform(train_x)\n",
    "preprocessed_test_x = scaler.transform(test_x)\n",
    "preprocessed_train_x"
   ],
   "metadata": {
    "collapsed": false,
    "ExecuteTime": {
     "end_time": "2024-05-05T08:47:00.582668300Z",
     "start_time": "2024-05-05T08:47:00.572668Z"
    }
   },
   "id": "4f7bd8988067871e"
  },
  {
   "cell_type": "code",
   "execution_count": 41,
   "outputs": [],
   "source": [
    "from tensorflow import keras\n",
    "from keras import models\n",
    "from keras import layers\n",
    "model = models.Sequential()\n",
    "\n",
    "model.add(layers.Dropout(0.25))\n",
    "model.add(layers.Dense(16, activation='swish'))\n",
    "model.add(layers.Dropout(0.25))\n",
    "model.add(layers.Dense(32, activation='swish'))\n",
    "model.add(layers.Dropout(0.25))\n",
    "model.add(layers.Dense(16, activation='swish'))\n",
    "model.add(layers.Dense(1, activation='sigmoid'))\n",
    "model.compile(loss=keras.losses.BinaryCrossentropy(from_logits=False), optimizer=keras.optimizers.Nadam(learning_rate=0.01), metrics=[keras.metrics.AUC()])"
   ],
   "metadata": {
    "collapsed": false,
    "ExecuteTime": {
     "end_time": "2024-05-05T09:20:16.853768400Z",
     "start_time": "2024-05-05T09:20:16.824672100Z"
    }
   },
   "id": "79c17a40147916fc"
  },
  {
   "cell_type": "code",
   "execution_count": 47,
   "outputs": [
    {
     "name": "stdout",
     "output_type": "stream",
     "text": [
      "Epoch 1/15\n",
      "40/40 [==============================] - 0s 6ms/step - loss: 0.5694 - auc: 0.7636\n",
      "Epoch 2/15\n",
      "40/40 [==============================] - 0s 6ms/step - loss: 0.5783 - auc: 0.7589\n",
      "Epoch 3/15\n",
      "40/40 [==============================] - 0s 6ms/step - loss: 0.5769 - auc: 0.7584\n",
      "Epoch 4/15\n",
      "40/40 [==============================] - 0s 6ms/step - loss: 0.5620 - auc: 0.7691\n",
      "Epoch 5/15\n",
      "40/40 [==============================] - 0s 6ms/step - loss: 0.5859 - auc: 0.7427\n",
      "Epoch 6/15\n",
      "40/40 [==============================] - 0s 6ms/step - loss: 0.5787 - auc: 0.7582\n",
      "Epoch 7/15\n",
      "40/40 [==============================] - 0s 6ms/step - loss: 0.5626 - auc: 0.7729\n",
      "Epoch 8/15\n",
      "40/40 [==============================] - 0s 6ms/step - loss: 0.5831 - auc: 0.7559\n",
      "Epoch 9/15\n",
      "40/40 [==============================] - 0s 6ms/step - loss: 0.5831 - auc: 0.7481\n",
      "Epoch 10/15\n",
      "40/40 [==============================] - 0s 6ms/step - loss: 0.5894 - auc: 0.7405\n",
      "Epoch 11/15\n",
      "40/40 [==============================] - 0s 6ms/step - loss: 0.5771 - auc: 0.7571\n",
      "Epoch 12/15\n",
      "40/40 [==============================] - 0s 6ms/step - loss: 0.5766 - auc: 0.7527\n",
      "Epoch 13/15\n",
      "40/40 [==============================] - 0s 6ms/step - loss: 0.5886 - auc: 0.7453\n",
      "Epoch 14/15\n",
      "40/40 [==============================] - 0s 6ms/step - loss: 0.5795 - auc: 0.7546\n",
      "Epoch 15/15\n",
      "40/40 [==============================] - 0s 6ms/step - loss: 0.5848 - auc: 0.7462\n"
     ]
    }
   ],
   "source": [
    "history = model.fit(preprocessed_train_x, train_y, epochs=15)"
   ],
   "metadata": {
    "collapsed": false,
    "ExecuteTime": {
     "end_time": "2024-05-05T09:21:10.179239100Z",
     "start_time": "2024-05-05T09:21:06.224239600Z"
    }
   },
   "id": "d8017685c227b8ab"
  },
  {
   "cell_type": "code",
   "execution_count": 48,
   "outputs": [
    {
     "name": "stdout",
     "output_type": "stream",
     "text": [
      "20/20 [==============================] - 0s 632us/step\n"
     ]
    }
   ],
   "source": [
    "predictions = model.predict(preprocessed_test_x)"
   ],
   "metadata": {
    "collapsed": false,
    "ExecuteTime": {
     "end_time": "2024-05-05T09:21:11.894652700Z",
     "start_time": "2024-05-05T09:21:11.813654Z"
    }
   },
   "id": "4369fe89a41d5234"
  },
  {
   "cell_type": "code",
   "execution_count": 51,
   "outputs": [
    {
     "data": {
      "text/plain": "<matplotlib.legend.Legend at 0x23e66269cc0>"
     },
     "execution_count": 51,
     "metadata": {},
     "output_type": "execute_result"
    },
    {
     "data": {
      "text/plain": "<Figure size 640x480 with 1 Axes>",
      "image/png": "[encoded data removed]"
     },
     "metadata": {},
     "output_type": "display_data"
    }
   ],
   "source": [
    "import matplotlib.pyplot as plt\n",
    "import sklearn.metrics as metrics\n",
    "\n",
    "fpr, tpr, thresholds = metrics.roc_curve(test_y, predictions)\n",
    "best_threshold_index = np.argmin(np.sqrt(fpr**2 + (tpr-1)**2))\n",
    "roc_auc = metrics.auc(fpr, tpr)\n",
    "threshold = thresholds[best_threshold_index]\n",
    "\n",
    "# Plot ROC curve\n",
    "plt.plot(fpr, tpr, label='ROC curve (площадь = %0.3f)' % roc_auc)\n",
    "plt.plot([0, 1], [0, 1], 'k--')  # random predictions curve\n",
    "plt.xlim([0.0, 1.0])\n",
    "plt.ylim([0.0, 1.0])\n",
    "plt.xlabel('False positive rate')\n",
    "plt.ylabel('True positive rate')\n",
    "plt.title('ROC кривая')\n",
    "plt.scatter(fpr[best_threshold_index], tpr[best_threshold_index], marker='o', color='black', label=f'Лучший порог = {threshold}')\n",
    "plt.legend(loc=\"lower right\")\n"
   ],
   "metadata": {
    "collapsed": false,
    "ExecuteTime": {
     "end_time": "2024-05-05T09:22:10.488930600Z",
     "start_time": "2024-05-05T09:22:10.371931Z"
    }
   },
   "id": "2deab6eedabd9cb"
  },
  {
   "cell_type": "code",
   "execution_count": 52,
   "outputs": [
    {
     "name": "stdout",
     "output_type": "stream",
     "text": [
      "accuracy: 0.7287319422150883, precision: 0.6730769230769231, recall = 0.7581227436823105, roc auc = 0.7878800525865487\n",
      "confusion matrix:\n",
      " [[244 102]\n",
      " [ 67 210]]\n"
     ]
    }
   ],
   "source": [
    "binary_predictions = (predictions > threshold) * 1\n",
    "print(f'accuracy: {metrics.accuracy_score(test_y, binary_predictions)}, precision: {metrics.precision_score(test_y, binary_predictions)}, recall = {metrics.recall_score(test_y, binary_predictions)}, roc auc = {metrics.roc_auc_score(test_y, predictions)}')\n",
    "print('confusion matrix:\\n', metrics.confusion_matrix(test_y, binary_predictions))"
   ],
   "metadata": {
    "collapsed": false,
    "ExecuteTime": {
     "end_time": "2024-05-05T09:22:17.262958300Z",
     "start_time": "2024-05-05T09:22:17.243958800Z"
    }
   },
   "id": "aa2e98b221f90a97"
  }
 ],
 "metadata": {
  "kaggle": {
   "accelerator": "none",
   "dataSources": [
    {
     "datasetId": 4687485,
     "sourceId": 7966947,
     "sourceType": "datasetVersion"
    }
   ],
   "dockerImageVersionId": 30673,
   "isGpuEnabled": false,
   "isInternetEnabled": true,
   "language": "python",
   "sourceType": "notebook"
  },
  "kernelspec": {
   "display_name": "Python 3",
   "language": "python",
   "name": "python3"
  },
  "language_info": {
   "codemirror_mode": {
    "name": "ipython",
    "version": 3
   },
   "file_extension": ".py",
   "mimetype": "text/x-python",
   "name": "python",
   "nbconvert_exporter": "python",
   "pygments_lexer": "ipython3",
   "version": "3.10.13"
  },
  "papermill": {
   "default_parameters": {},
   "duration": 4.965264,
   "end_time": "2024-04-03T08:45:26.052636",
   "environment_variables": {},
   "exception": null,
   "input_path": "__notebook__.ipynb",
   "output_path": "__notebook__.ipynb",
   "parameters": {},
   "start_time": "2024-04-03T08:45:21.087372",
   "version": "2.5.0"
  }
 },
 "nbformat": 4,
 "nbformat_minor": 5
}
